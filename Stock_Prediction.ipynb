{
  "nbformat": 4,
  "nbformat_minor": 0,
  "metadata": {
    "colab": {
      "provenance": [],
      "authorship_tag": "ABX9TyMfVGYyT4cSDdfH3q1AF3i5",
      "include_colab_link": true
    },
    "kernelspec": {
      "name": "python3",
      "display_name": "Python 3"
    },
    "language_info": {
      "name": "python"
    }
  },
  "cells": [
    {
      "cell_type": "markdown",
      "metadata": {
        "id": "view-in-github",
        "colab_type": "text"
      },
      "source": [
        "<a href=\"https://colab.research.google.com/github/pujitha-siva-sresta-b/BharatIntern-Repo/blob/main/Stock_Prediction.ipynb\" target=\"_parent\"><img src=\"https://colab.research.google.com/assets/colab-badge.svg\" alt=\"Open In Colab\"/></a>"
      ]
    },
    {
      "cell_type": "code",
      "execution_count": 1,
      "metadata": {
        "id": "OdTAVXeuk1F0"
      },
      "outputs": [],
      "source": [
        "\n",
        "#importing libraries to be used\n",
        "import numpy as np # for linear algebra\n",
        "import pandas as pd # data preprocessing\n",
        "import matplotlib.pyplot as plt # data visualization library\n",
        "import seaborn as sns # data visualization library\n",
        "%matplotlib inline\n",
        "import warnings\n",
        "warnings.filterwarnings('ignore') # ignore warnings\n",
        "\n",
        "from sklearn.preprocessing import MinMaxScaler # for normalization\n",
        "from keras.models import Sequential\n",
        "from keras.layers import Dense, Dropout, LSTM, Bidirectional"
      ]
    }
  ]
}